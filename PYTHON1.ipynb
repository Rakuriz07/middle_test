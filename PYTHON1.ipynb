{
  "nbformat": 4,
  "nbformat_minor": 0,
  "metadata": {
    "colab": {
      "provenance": []
    },
    "kernelspec": {
      "name": "python3",
      "display_name": "Python 3"
    },
    "language_info": {
      "name": "python"
    }
  },
  "cells": [
    {
      "cell_type": "markdown",
      "source": [
        "PYTHON1 NO 1"
      ],
      "metadata": {
        "id": "_362YH-O4CsL"
      }
    },
    {
      "cell_type": "code",
      "execution_count": 1,
      "metadata": {
        "colab": {
          "base_uri": "https://localhost:8080/"
        },
        "id": "d3YFk-Fh38A8",
        "outputId": "b971cece-0766-49f6-9b3a-c12ce88a7b50"
      },
      "outputs": [
        {
          "output_type": "stream",
          "name": "stdout",
          "text": [
            "The third winner: Budi\n"
          ]
        }
      ],
      "source": [
        "def third_place(names, scores):\n",
        "\n",
        "    sorted_scores = sorted(scores, reverse=True)\n",
        "    third_best_score = sorted_scores[2]\n",
        "    third_best_index = scores.index(third_best_score)\n",
        "    return f\"The third winner: {names[third_best_index]}\"\n",
        "\n",
        "# Example usage:\n",
        "names = [\"Andi\", \"Budi\", \"Charlie\", \"Dilan\", \"Echa\"]\n",
        "scores = [80, 90, 95, 100, 85]\n",
        "result = third_place(names, scores)\n",
        "print(result)  # Output: \"The third winner: Budi\"\n"
      ]
    },
    {
      "cell_type": "markdown",
      "source": [
        "PYTHON 1 NO2"
      ],
      "metadata": {
        "id": "h2wuHhJu4B1a"
      }
    },
    {
      "cell_type": "code",
      "source": [
        "def third_place(names, scores):\n",
        "\n",
        "    sorted_scores = sorted(scores, reverse=True)\n",
        "    third_best_score = sorted_scores[2]\n",
        "    third_best_indices = [i for i, score in enumerate(scores) if score == third_best_score]\n",
        "    third_best_names = \", \".join([names[i] for i in third_best_indices])\n",
        "    return f\"The third winner: {third_best_names}\"\n",
        "\n",
        "names = [\"Andi\", \"Budi\", \"Charlie\", \"Dilan\", \"Echa\"]\n",
        "scores = [80, 80, 80, 100, 90]\n",
        "result = third_place(names, scores)\n",
        "print(result)\n"
      ],
      "metadata": {
        "colab": {
          "base_uri": "https://localhost:8080/"
        },
        "id": "LWXJqOtK4LHs",
        "outputId": "563840ff-efef-430b-ce97-5a61c41b3039"
      },
      "execution_count": 3,
      "outputs": [
        {
          "output_type": "stream",
          "name": "stdout",
          "text": [
            "The third winner: Andi, Budi, Charlie\n"
          ]
        }
      ]
    },
    {
      "cell_type": "markdown",
      "source": [
        "python 1 no 3\n"
      ],
      "metadata": {
        "id": "9F4njnqJ5Nkw"
      }
    },
    {
      "cell_type": "code",
      "source": [
        "def third_place(names, scores):\n",
        "\n",
        "    sorted_scores = sorted(scores, reverse=True)\n",
        "    third_best_score = sorted_scores[2]\n",
        "    third_best_indices = [i for i, score in enumerate(scores) if score == third_best_score]\n",
        "    third_best_names = \", \".join([names[i] for i in third_best_indices])\n",
        "    return f\"The third winner: {third_best_names}\"\n",
        "\n",
        "names = [\"Andi\", \"Budi\", \"Charlie\", \"Dilan\", \"Echa\", \"Fanya\"]\n",
        "scores = [80, 90, 90, 100, 100, 80]\n",
        "result = third_place(names, scores)\n",
        "result\n"
      ],
      "metadata": {
        "colab": {
          "base_uri": "https://localhost:8080/",
          "height": 35
        },
        "id": "yfPT6_yV5P1Y",
        "outputId": "6186a524-6b2e-43c5-b847-10636d3c651b"
      },
      "execution_count": 2,
      "outputs": [
        {
          "output_type": "execute_result",
          "data": {
            "text/plain": [
              "'The third winner: Budi, Charlie'"
            ],
            "application/vnd.google.colaboratory.intrinsic+json": {
              "type": "string"
            }
          },
          "metadata": {},
          "execution_count": 2
        }
      ]
    }
  ]
}