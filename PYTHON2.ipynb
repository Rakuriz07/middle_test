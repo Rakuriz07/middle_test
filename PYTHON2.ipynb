{
  "nbformat": 4,
  "nbformat_minor": 0,
  "metadata": {
    "colab": {
      "provenance": []
    },
    "kernelspec": {
      "name": "python3",
      "display_name": "Python 3"
    },
    "language_info": {
      "name": "python"
    }
  },
  "cells": [
    {
      "cell_type": "markdown",
      "source": [
        "test python2 no 1"
      ],
      "metadata": {
        "id": "HrNcOhcc0NF6"
      }
    },
    {
      "cell_type": "code",
      "execution_count": 1,
      "metadata": {
        "colab": {
          "base_uri": "https://localhost:8080/"
        },
        "id": "pugSXLikzh4P",
        "outputId": "c91839ba-ec00-4042-dbe9-9966526e169a"
      },
      "outputs": [
        {
          "output_type": "stream",
          "name": "stdout",
          "text": [
            "Jaraknya 5.00.\n"
          ]
        }
      ],
      "source": [
        "def distance(point_1, point_2):\n",
        "\n",
        "    x1, y1 = point_1\n",
        "    x2, y2 = point_2\n",
        "    distance_squared = (x1 - x2) ** 2 + (y1 - y2) ** 2\n",
        "    distance = distance_squared ** 0.5\n",
        "    return f\"Jaraknya {distance:.2f}.\"\n",
        "\n",
        "point_1 = [5, 5]\n",
        "point_2 = [1, 2]\n",
        "result = distance(point_1, point_2)\n",
        "print(result)\n"
      ]
    },
    {
      "cell_type": "markdown",
      "source": [
        "python2 no 2"
      ],
      "metadata": {
        "id": "ex4kmNBG2J94"
      }
    },
    {
      "cell_type": "code",
      "source": [
        "def distance(point_1, point_2):\n",
        "\n",
        "    x1, y1 = point_1\n",
        "    x2, y2 = point_2\n",
        "    distance_squared = (x1 - x2) ** 2 + (y1 - y2) ** 2\n",
        "    distance = distance_squared ** 0.5\n",
        "    return f\"The distance is {distance:.9f}.\"\n",
        "\n",
        "\n",
        "point_1 = [0, -1]\n",
        "point_2 = [-3, 2]\n",
        "result = distance(point_1, point_2)\n",
        "print(result)\n"
      ],
      "metadata": {
        "colab": {
          "base_uri": "https://localhost:8080/"
        },
        "id": "9bUDzAIY0ZDb",
        "outputId": "7d2bbbe6-8ed0-4b61-d6ff-5ef330854216"
      },
      "execution_count": 2,
      "outputs": [
        {
          "output_type": "stream",
          "name": "stdout",
          "text": [
            "The distance is 4.242640687.\n"
          ]
        }
      ]
    }
  ]
}